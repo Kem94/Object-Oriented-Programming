{
 "cells": [
  {
   "cell_type": "markdown",
   "id": "74a549e1",
   "metadata": {},
   "source": [
    "# Object Oriented Programming"
   ]
  },
  {
   "cell_type": "code",
   "execution_count": 1,
   "id": "43798046",
   "metadata": {},
   "outputs": [],
   "source": [
    "class Employee:\n",
    "    salary = 350000"
   ]
  },
  {
   "cell_type": "code",
   "execution_count": 3,
   "id": "67dcf617",
   "metadata": {},
   "outputs": [
    {
     "name": "stdout",
     "output_type": "stream",
     "text": [
      "350000\n"
     ]
    }
   ],
   "source": [
    "Kemi = Employee()\n",
    "\n",
    "print(Kemi.salary)"
   ]
  },
  {
   "cell_type": "code",
   "execution_count": 4,
   "id": "ccec710f",
   "metadata": {},
   "outputs": [
    {
     "data": {
      "text/plain": [
       "350000"
      ]
     },
     "execution_count": 4,
     "metadata": {},
     "output_type": "execute_result"
    }
   ],
   "source": [
    "Kemi.salary"
   ]
  },
  {
   "cell_type": "code",
   "execution_count": 13,
   "id": "62fa651a",
   "metadata": {},
   "outputs": [],
   "source": [
    "class Employee:\n",
    "    def __init__(self, name, age, salary, position, department, marital_status):\n",
    "        self.name = name\n",
    "        self.age = age\n",
    "        self.salary = salary\n",
    "        self.position = position\n",
    "        self.department = department\n",
    "        self.marital_status = marital_status\n",
    "        \n",
    "    def add_age(self):\n",
    "        self.age += 1\n",
    "        \n",
    "    def get_age(self):\n",
    "        return \"Age is {}\".format(self.age)"
   ]
  },
  {
   "cell_type": "code",
   "execution_count": 16,
   "id": "e1ab7a38",
   "metadata": {},
   "outputs": [],
   "source": [
    "staff_1 = Employee(\"Kemi\", 25, \"Manager\", 500000, \"Finance\", \"Married\")"
   ]
  },
  {
   "cell_type": "code",
   "execution_count": 17,
   "id": "ebd8f81b",
   "metadata": {},
   "outputs": [
    {
     "data": {
      "text/plain": [
       "'Kemi'"
      ]
     },
     "execution_count": 17,
     "metadata": {},
     "output_type": "execute_result"
    }
   ],
   "source": [
    "staff_1.name"
   ]
  },
  {
   "cell_type": "code",
   "execution_count": 18,
   "id": "75d3ac34",
   "metadata": {},
   "outputs": [],
   "source": [
    "staff_2 = Employee(\"Chris\", 32, \"Associate\", 250000, \"HR\", \"Single\")"
   ]
  },
  {
   "cell_type": "code",
   "execution_count": 19,
   "id": "8a2d6ac2",
   "metadata": {},
   "outputs": [
    {
     "data": {
      "text/plain": [
       "'Chris'"
      ]
     },
     "execution_count": 19,
     "metadata": {},
     "output_type": "execute_result"
    }
   ],
   "source": [
    "staff_2.name"
   ]
  },
  {
   "cell_type": "code",
   "execution_count": 20,
   "id": "d398f215",
   "metadata": {},
   "outputs": [
    {
     "data": {
      "text/plain": [
       "32"
      ]
     },
     "execution_count": 20,
     "metadata": {},
     "output_type": "execute_result"
    }
   ],
   "source": [
    "staff_2.age"
   ]
  },
  {
   "cell_type": "code",
   "execution_count": 23,
   "id": "3cb12c73",
   "metadata": {},
   "outputs": [
    {
     "data": {
      "text/plain": [
       "<bound method Employee.add_age of <__main__.Employee object at 0x000002A764066730>>"
      ]
     },
     "execution_count": 23,
     "metadata": {},
     "output_type": "execute_result"
    }
   ],
   "source": [
    "staff_2.add_age"
   ]
  },
  {
   "cell_type": "code",
   "execution_count": 24,
   "id": "4bcdc4fc",
   "metadata": {},
   "outputs": [
    {
     "data": {
      "text/plain": [
       "33"
      ]
     },
     "execution_count": 24,
     "metadata": {},
     "output_type": "execute_result"
    }
   ],
   "source": [
    "staff_2.age"
   ]
  },
  {
   "cell_type": "code",
   "execution_count": 26,
   "id": "58827cab",
   "metadata": {},
   "outputs": [
    {
     "data": {
      "text/plain": [
       "33"
      ]
     },
     "execution_count": 26,
     "metadata": {},
     "output_type": "execute_result"
    }
   ],
   "source": [
    "staff_2.add_age\n",
    "staff_2.age"
   ]
  },
  {
   "cell_type": "markdown",
   "id": "00e650ef",
   "metadata": {},
   "source": [
    "### Encapsulation"
   ]
  },
  {
   "cell_type": "code",
   "execution_count": 60,
   "id": "e226a178",
   "metadata": {},
   "outputs": [],
   "source": [
    "class Sports:\n",
    "    def __init__(self):\n",
    "        self.__sportsName = \"Soccer\"\n",
    "        \n",
    "    def game(self):\n",
    "        print(\"The game is: {}\".format(self.__sportsName))\n",
    "        \n",
    "    def change_name(self, name):\n",
    "        self.__sportsName = name"
   ]
  },
  {
   "cell_type": "code",
   "execution_count": 56,
   "id": "b8bc29ab",
   "metadata": {},
   "outputs": [
    {
     "name": "stdout",
     "output_type": "stream",
     "text": [
      "The game is: Soccer\n"
     ]
    }
   ],
   "source": [
    "s = Sports()\n",
    "s.game()"
   ]
  },
  {
   "cell_type": "code",
   "execution_count": 57,
   "id": "00a553e5",
   "metadata": {},
   "outputs": [
    {
     "name": "stdout",
     "output_type": "stream",
     "text": [
      "The game is: Soccer\n"
     ]
    }
   ],
   "source": [
    "# changing the sports name\n",
    "s.__sportsName = 'Hockey'\n",
    "s.game()"
   ]
  },
  {
   "cell_type": "code",
   "execution_count": 59,
   "id": "62d783ef",
   "metadata": {},
   "outputs": [
    {
     "name": "stdout",
     "output_type": "stream",
     "text": [
      "The game is: Hockey\n"
     ]
    }
   ],
   "source": [
    "# changing the sports name\n",
    "s.change_name('Hockey')\n",
    "s.game()"
   ]
  },
  {
   "cell_type": "markdown",
   "id": "dbe2e59e",
   "metadata": {},
   "source": [
    "### Inheritance"
   ]
  },
  {
   "cell_type": "code",
   "execution_count": 2,
   "id": "ed833fde",
   "metadata": {},
   "outputs": [],
   "source": [
    "class Animal:\n",
    "    def __init__(self):\n",
    "        print(\"Animal is there\")\n",
    "    def Whatistheclass(self):\n",
    "        print(\"Animal\")\n",
    "    def Run(self):\n",
    "        print(\"Runs in speed\")\n",
    "        \n",
    "# The child class\n",
    "class Lion(Animal):\n",
    "    def __init__(self):\n",
    "        # call super() function\n",
    "        super().__init__()\n",
    "        print(\"Lion is there\")\n",
    "        \n",
    "    def Whatistheclass(self):\n",
    "        print(\"Lion\")\n",
    "        \n",
    "    def run(self):\n",
    "        print(\"Runs in speed\")"
   ]
  },
  {
   "cell_type": "code",
   "execution_count": 3,
   "id": "612e29b4",
   "metadata": {},
   "outputs": [
    {
     "name": "stdout",
     "output_type": "stream",
     "text": [
      "Animal is there\n"
     ]
    }
   ],
   "source": [
    "mammal = Animal()"
   ]
  },
  {
   "cell_type": "code",
   "execution_count": 4,
   "id": "a4477421",
   "metadata": {},
   "outputs": [
    {
     "name": "stdout",
     "output_type": "stream",
     "text": [
      "Animal\n"
     ]
    }
   ],
   "source": [
    "mammal.Whatistheclass()"
   ]
  },
  {
   "cell_type": "markdown",
   "id": "2e1af715",
   "metadata": {},
   "source": [
    "### Polymorphism"
   ]
  },
  {
   "cell_type": "code",
   "execution_count": 5,
   "id": "c4548934",
   "metadata": {},
   "outputs": [],
   "source": [
    "class Lion:\n",
    "    def Roar(self):\n",
    "        print(\"Lion can roar\")\n",
    "    def Bark(self):\n",
    "        print(\"Lion can't bark\")\n",
    "        \n",
    "class Dog:\n",
    "    def Roar(self):\n",
    "        print(\"Dog can't roar\")\n",
    "    def Bark(self):\n",
    "        print(\"Dog can bark\")"
   ]
  },
  {
   "cell_type": "code",
   "execution_count": 6,
   "id": "7f2835f0",
   "metadata": {},
   "outputs": [],
   "source": [
    "#instantiate objects\n",
    "pet = Lion()\n",
    "street = Dog()"
   ]
  },
  {
   "cell_type": "code",
   "execution_count": 7,
   "id": "a7a88380",
   "metadata": {},
   "outputs": [
    {
     "name": "stdout",
     "output_type": "stream",
     "text": [
      "Lion can roar\n",
      "Dog can't roar\n"
     ]
    }
   ],
   "source": [
    "pet.Roar()\n",
    "street.Roar()"
   ]
  },
  {
   "cell_type": "code",
   "execution_count": 10,
   "id": "73825ad6",
   "metadata": {},
   "outputs": [],
   "source": [
    "pet = Lion()\n",
    "street = Dog()"
   ]
  },
  {
   "cell_type": "code",
   "execution_count": 11,
   "id": "c6a78cdd",
   "metadata": {},
   "outputs": [
    {
     "name": "stdout",
     "output_type": "stream",
     "text": [
      "Lion can't bark\n",
      "Dog can bark\n"
     ]
    }
   ],
   "source": [
    "pet.Bark()\n",
    "street.Bark()"
   ]
  },
  {
   "cell_type": "markdown",
   "id": "04299229",
   "metadata": {},
   "source": [
    "### Abstraction"
   ]
  },
  {
   "cell_type": "code",
   "execution_count": 21,
   "id": "d018ca41",
   "metadata": {},
   "outputs": [],
   "source": [
    "class Customer:\n",
    "    def __init__(self, name, address, phone):\n",
    "        self.__name = name\n",
    "        self.__address = address\n",
    "        self.__phone = phone\n",
    "        \n",
    "    def set_name(self, name):\n",
    "        self._name = name\n",
    "        \n",
    "    def set_address(self, address):\n",
    "        self._address = address\n",
    "        \n",
    "    def set_phone(self, phone):\n",
    "        self.__phone = phone\n",
    "        \n",
    "    def get_name(self):\n",
    "        return self.__name\n",
    "    \n",
    "    def get_address(self):\n",
    "        return self.__address\n",
    "    \n",
    "    def get_phone(self):\n",
    "        return self.__phone"
   ]
  },
  {
   "cell_type": "code",
   "execution_count": 22,
   "id": "9e994fa4",
   "metadata": {},
   "outputs": [],
   "source": [
    "customers = []"
   ]
  },
  {
   "cell_type": "code",
   "execution_count": 27,
   "id": "64b48f90",
   "metadata": {},
   "outputs": [],
   "source": [
    "cus_1 = Customer(\"Chris\", \"Victoria Island\", \"08098341256\")"
   ]
  },
  {
   "cell_type": "code",
   "execution_count": 28,
   "id": "b7c1ae55",
   "metadata": {},
   "outputs": [],
   "source": [
    "cus_2 = Customer(\"Shade\", \"Ikoyi\", \"09032416543\")"
   ]
  },
  {
   "cell_type": "code",
   "execution_count": 29,
   "id": "dcb4189d",
   "metadata": {},
   "outputs": [],
   "source": [
    "cus_3 = Customer(\"Henry\", \"Lekki\", \"08044312001\")"
   ]
  },
  {
   "cell_type": "code",
   "execution_count": 30,
   "id": "91fa842d",
   "metadata": {},
   "outputs": [],
   "source": [
    "cus_4 = Customer(\"Mary\", \"Ikeja\", \"08043213654\")"
   ]
  },
  {
   "cell_type": "code",
   "execution_count": 31,
   "id": "1fb35bcb",
   "metadata": {},
   "outputs": [],
   "source": [
    "customers.append(cus_1)\n",
    "customers.append(cus_2)\n",
    "customers.append(cus_3)\n",
    "customers.append(cus_4)"
   ]
  },
  {
   "cell_type": "code",
   "execution_count": 32,
   "id": "d6006e29",
   "metadata": {},
   "outputs": [
    {
     "data": {
      "text/plain": [
       "[<__main__.Customer at 0x28375b01fa0>,\n",
       " <__main__.Customer at 0x28375990cd0>,\n",
       " <__main__.Customer at 0x28375b72100>,\n",
       " <__main__.Customer at 0x283759fe0a0>]"
      ]
     },
     "execution_count": 32,
     "metadata": {},
     "output_type": "execute_result"
    }
   ],
   "source": [
    "customers"
   ]
  },
  {
   "cell_type": "code",
   "execution_count": 35,
   "id": "f036bc46",
   "metadata": {},
   "outputs": [
    {
     "name": "stdout",
     "output_type": "stream",
     "text": [
      "Chris\n",
      "Victoria Island\n",
      "08098341256\n",
      "\n",
      "Shade\n",
      "Ikoyi\n",
      "09032416543\n",
      "\n",
      "Henry\n",
      "Lekki\n",
      "08044312001\n",
      "\n",
      "Mary\n",
      "Ikeja\n",
      "08043213654\n",
      "\n"
     ]
    }
   ],
   "source": [
    "for customer in customers:\n",
    "    print(customer.get_name())\n",
    "    print(customer.get_address())\n",
    "    print(customer.get_phone())\n",
    "    print()"
   ]
  },
  {
   "cell_type": "code",
   "execution_count": 36,
   "id": "4ae08ef3",
   "metadata": {},
   "outputs": [],
   "source": [
    "class Cellphone:\n",
    "    # The __init__ method initializes the attributes.\n",
    "    def __init__(self, manufact, model, price):\n",
    "        self.__manufact = manufact\n",
    "        self.__model = model\n",
    "        self.__retail_price = price\n",
    "        \n",
    "    def set_manufact(self, manufact):\n",
    "        self.__manufact = manufact\n",
    "        \n",
    "    def set_model(self, model):\n",
    "        self.__model = model\n",
    "        \n",
    "    def set_retail_price(self, price):\n",
    "        self.__retail_price = price\n",
    "        \n",
    "    def get_manufact(self):\n",
    "        return self.__manufact\n",
    "    \n",
    "    def get_model(self):\n",
    "        return self.__model\n",
    "    \n",
    "    def get_retail_price(self):\n",
    "        return self.__retail_price"
   ]
  },
  {
   "cell_type": "code",
   "execution_count": 53,
   "id": "cbfd1cbb",
   "metadata": {},
   "outputs": [],
   "source": [
    "cellphones = []"
   ]
  },
  {
   "cell_type": "code",
   "execution_count": 54,
   "id": "d56b42d0",
   "metadata": {},
   "outputs": [],
   "source": [
    "cell_1 = Cellphone(\"Tecno\", \"Phantom 12\", 120000)"
   ]
  },
  {
   "cell_type": "code",
   "execution_count": 55,
   "id": "4d0ae119",
   "metadata": {},
   "outputs": [],
   "source": [
    "cell_2 = Cellphone(\"IPhone\", \"12\", 750000)"
   ]
  },
  {
   "cell_type": "code",
   "execution_count": 56,
   "id": "3206585d",
   "metadata": {},
   "outputs": [],
   "source": [
    "cell_3 = Cellphone(\"Infinix\", \"Note 12\", 122000)"
   ]
  },
  {
   "cell_type": "code",
   "execution_count": 57,
   "id": "eb5ec85f",
   "metadata": {},
   "outputs": [],
   "source": [
    "cell_4 = Cellphone(\"Samsung Galaxy\", \"S5\", 150000)"
   ]
  },
  {
   "cell_type": "code",
   "execution_count": 58,
   "id": "184541e2",
   "metadata": {},
   "outputs": [],
   "source": [
    "cellphones.append(cell_1)\n",
    "cellphones.append(cell_2)\n",
    "cellphones.append(cell_3)\n",
    "cellphones.append(cell_4)"
   ]
  },
  {
   "cell_type": "code",
   "execution_count": 59,
   "id": "0e8c7bf0",
   "metadata": {},
   "outputs": [
    {
     "name": "stdout",
     "output_type": "stream",
     "text": [
      "Tecno\n",
      "Phantom 12\n",
      "120000\n",
      "\n",
      "IPhone\n",
      "12\n",
      "750000\n",
      "\n",
      "Infinix\n",
      "Note 12\n",
      "122000\n",
      "\n",
      "Samsung Galaxy\n",
      "S5\n",
      "150000\n",
      "\n"
     ]
    }
   ],
   "source": [
    "for cellphone in cellphones:\n",
    "    print(cellphone.get_manufact())\n",
    "    print(cellphone.get_model())\n",
    "    print(cellphone.get_retail_price())\n",
    "    print()"
   ]
  },
  {
   "cell_type": "markdown",
   "id": "7efbba95",
   "metadata": {},
   "source": [
    "### Inheritance and Encapsulation"
   ]
  },
  {
   "cell_type": "code",
   "execution_count": 5,
   "id": "8e18cdd1",
   "metadata": {},
   "outputs": [],
   "source": [
    "class Automobile:\n",
    "    def __init__(self, make, model, mileage, price):\n",
    "        self.__make = make\n",
    "        self.__model = model\n",
    "        self.__mileage = mileage\n",
    "        self.__price = price\n",
    "        \n",
    "    def set_make(self, make):\n",
    "        self.__make = make\n",
    "        \n",
    "    def set_model(self, model):\n",
    "        self.__model = model\n",
    "        \n",
    "    def set_mileage(self, mileage):\n",
    "        self.__mileage = mileage\n",
    "        \n",
    "    def set_price(self, price):\n",
    "        self.__price = price\n",
    "        \n",
    "    def get_make(self):\n",
    "        return self.__make\n",
    "    \n",
    "    def get_model(self):\n",
    "        return self.__model\n",
    "    \n",
    "    def get_mileage(self):\n",
    "        return self.__mileage\n",
    "    \n",
    "    def get_price(self):\n",
    "        return self.__price"
   ]
  },
  {
   "cell_type": "code",
   "execution_count": 6,
   "id": "225aff3c",
   "metadata": {},
   "outputs": [],
   "source": [
    "class Car(Automobile):\n",
    "    def __init__(self, make, model, mileage, price, doors):\n",
    "        super().__init__(make, model, mileage, price)\n",
    "        self.__doors = doors\n",
    "        \n",
    "    def set_doors(self, doors):\n",
    "        self.__doors = doors\n",
    "        \n",
    "    def get_doors(self):\n",
    "        return self.__doors"
   ]
  },
  {
   "cell_type": "code",
   "execution_count": 7,
   "id": "91412516",
   "metadata": {},
   "outputs": [],
   "source": [
    "class Truck(Automobile):\n",
    "    def __init__(self, make, model, mileage, price, drive_type):\n",
    "        super().__init__(make, model, mileage, price)\n",
    "        self.__drive_type = drive_type\n",
    "        \n",
    "    def set_drive_type(self, drive_type):\n",
    "        self.__drive_type = drive_type\n",
    "        \n",
    "    def get_drive_type(self):\n",
    "        return self.__drive_type"
   ]
  },
  {
   "cell_type": "code",
   "execution_count": 8,
   "id": "58fea25e",
   "metadata": {},
   "outputs": [],
   "source": [
    "class SUV(Automobile):\n",
    "    def __init__(self, make, model, mileage, price, pass_cap):\n",
    "        super().__init__(make, model, mileage, price)\n",
    "        self.__pass_cap = pass_cap\n",
    "        \n",
    "    def set_pass_cap(self, pass_cap):\n",
    "        self.__pass_cap = pass_cap\n",
    "        \n",
    "    def get_pass_cap(self):\n",
    "        return self.__pass_cap"
   ]
  },
  {
   "cell_type": "code",
   "execution_count": 10,
   "id": "822f8775",
   "metadata": {},
   "outputs": [],
   "source": [
    "car = Car(\"Toyota Corolla\", 2015, 40000, 12000000, 4)"
   ]
  },
  {
   "cell_type": "code",
   "execution_count": 11,
   "id": "b04e0257",
   "metadata": {},
   "outputs": [],
   "source": [
    "truck = Truck(\"Mazda\", 2012, 130000, 900000, 3)"
   ]
  },
  {
   "cell_type": "code",
   "execution_count": 13,
   "id": "a160753b",
   "metadata": {},
   "outputs": [],
   "source": [
    "suv = SUV(\"Jeep\", 2017, 500000, 15000000, 4)"
   ]
  },
  {
   "cell_type": "code",
   "execution_count": null,
   "id": "9a760fa5",
   "metadata": {},
   "outputs": [],
   "source": []
  }
 ],
 "metadata": {
  "kernelspec": {
   "display_name": "Python 3 (ipykernel)",
   "language": "python",
   "name": "python3"
  },
  "language_info": {
   "codemirror_mode": {
    "name": "ipython",
    "version": 3
   },
   "file_extension": ".py",
   "mimetype": "text/x-python",
   "name": "python",
   "nbconvert_exporter": "python",
   "pygments_lexer": "ipython3",
   "version": "3.9.12"
  }
 },
 "nbformat": 4,
 "nbformat_minor": 5
}
